{
  "cells": [
    {
      "cell_type": "markdown",
      "metadata": {},
      "source": [
        "# Ex1 - Filtering and Sorting Data\n",
        "\n",
        "This time we are going to pull data directly from the internet. Special\n",
        "thanks to: https://github.com/justmarkham for sharing the dataset and\n",
        "materials.\n",
        "\n",
        "### Step 1. Import the necessary libraries"
      ],
      "id": "d640bc1e-7f72-495d-bc88-f5ada4f60f4e"
    },
    {
      "cell_type": "code",
      "execution_count": 10,
      "metadata": {},
      "outputs": [],
      "source": [
        "import pandas as pd"
      ],
      "id": "cell-3"
    },
    {
      "cell_type": "markdown",
      "metadata": {},
      "source": [
        "### Step 2. Import the dataset from this [address](https://raw.githubusercontent.com/justmarkham/DAT8/master/data/chipotle.tsv).\n",
        "\n",
        "### Step 3. Assign it to a variable called chipo."
      ],
      "id": "6d78a8da-abc2-4a8b-8d1d-ab73ddb72644"
    },
    {
      "cell_type": "code",
      "execution_count": 21,
      "metadata": {},
      "outputs": [],
      "source": [
        "url = 'https://raw.githubusercontent.com/justmarkham/DAT8/master/data/chipotle.tsv'\n",
        "\n",
        "chipo = pd.read_csv(url, sep = '\\t')"
      ],
      "id": "cell-6"
    },
    {
      "cell_type": "markdown",
      "metadata": {},
      "source": [
        "### Step 4. How many products cost more than \\$10.00?"
      ],
      "id": "bbd9de66-bef2-44e3-b35b-bdaccca09606"
    },
    {
      "cell_type": "code",
      "execution_count": null,
      "metadata": {},
      "outputs": [
        {
          "output_type": "display_data",
          "metadata": {},
          "data": {
            "text/html": [
              "\n",
              "<p>1806 rows × 5 columns</p>\n",
              "</div>"
            ]
          }
        }
      ],
      "source": [
        "\n",
        "prices = [float(value[1 : -1]) for value in chipo.item_price]\n",
        "\n",
        "chipo.item_price = prices\n",
        "\n",
        "chipo_filtered = chipo.drop_duplicates(['item_name','quantity','choice_description'])\n",
        "\n",
        "chipo_one_prod = chipo_filtered[chipo_filtered.quantity == 1]\n",
        "chipo_one_prod\n"
      ],
      "id": "cell-8"
    },
    {
      "cell_type": "code",
      "execution_count": 23,
      "metadata": {},
      "outputs": [
        {
          "output_type": "display_data",
          "metadata": {},
          "data": {
            "text/plain": [
              "31"
            ]
          }
        }
      ],
      "source": [
        "chipo.query('item_price > 10').item_name.nunique()"
      ],
      "id": "cell-9"
    },
    {
      "cell_type": "markdown",
      "metadata": {},
      "source": [
        "### Step 5. What is the price of each item?\n",
        "\n",
        "###### print a data frame with only two columns item_name and item_price"
      ],
      "id": "3305cfd8-4bc8-43a9-b5b2-5c319f463ac7"
    },
    {
      "cell_type": "code",
      "execution_count": null,
      "metadata": {},
      "outputs": [
        {
          "output_type": "display_data",
          "metadata": {},
          "data": {
            "text/html": [
              "\n",
              "</div>"
            ]
          }
        }
      ],
      "source": [
        "\n",
        "chipo_filtered = chipo.drop_duplicates(['item_name','quantity'])\n",
        "\n",
        "chipo[(chipo['item_name'] == 'Chicken Bowl') & (chipo['quantity'] == 1)]\n",
        "\n",
        "chipo_one_prod = chipo_filtered[chipo_filtered.quantity == 1]\n",
        "\n",
        "price_per_item = chipo_one_prod[['item_name', 'item_price']]\n",
        "\n",
        "price_per_item.sort_values(by = \"item_price\", ascending = False).head(20)"
      ],
      "id": "cell-11"
    },
    {
      "cell_type": "markdown",
      "metadata": {},
      "source": [
        "### Step 6. Sort by the name of the item"
      ],
      "id": "70c31923-0c21-4b6a-9ef0-7c3da39a97e6"
    },
    {
      "cell_type": "code",
      "execution_count": 26,
      "metadata": {},
      "outputs": [
        {
          "output_type": "display_data",
          "metadata": {},
          "data": {
            "text/html": [
              "\n",
              "<p>4622 rows × 5 columns</p>\n",
              "</div>"
            ]
          }
        }
      ],
      "source": [
        "chipo.item_name.sort_values()\n",
        "\n",
        "# OR\n",
        "\n",
        "chipo.sort_values(by = \"item_name\")"
      ],
      "id": "cell-13"
    },
    {
      "cell_type": "markdown",
      "metadata": {},
      "source": [
        "### Step 7. What was the quantity of the most expensive item ordered?"
      ],
      "id": "6ab0563b-d3fb-4e8d-a7f7-dbf1292df4d0"
    },
    {
      "cell_type": "code",
      "execution_count": 27,
      "metadata": {},
      "outputs": [
        {
          "output_type": "display_data",
          "metadata": {},
          "data": {
            "text/html": [
              "\n",
              "</div>"
            ]
          }
        }
      ],
      "source": [
        "chipo.sort_values(by = \"item_price\", ascending = False).head(1)"
      ],
      "id": "cell-15"
    },
    {
      "cell_type": "markdown",
      "metadata": {},
      "source": [
        "### Step 8. How many times was a Veggie Salad Bowl ordered?"
      ],
      "id": "051e9e59-101d-4567-bad9-c4e58d821f32"
    },
    {
      "cell_type": "code",
      "execution_count": 28,
      "metadata": {},
      "outputs": [
        {
          "output_type": "display_data",
          "metadata": {},
          "data": {
            "text/plain": [
              "18"
            ]
          }
        }
      ],
      "source": [
        "chipo_salad = chipo[chipo.item_name == \"Veggie Salad Bowl\"]\n",
        "# chipo_salad = chipo.query('item_name == \"Veggie Salad Bowl\"')\n",
        "\n",
        "len(chipo_salad)"
      ],
      "id": "cell-17"
    },
    {
      "cell_type": "markdown",
      "metadata": {},
      "source": [
        "### Step 9. How many times did someone order more than one Canned Soda?"
      ],
      "id": "a86e707c-aab0-4f69-8d14-fba1e188251c"
    },
    {
      "cell_type": "code",
      "execution_count": 29,
      "metadata": {},
      "outputs": [
        {
          "output_type": "display_data",
          "metadata": {},
          "data": {
            "text/plain": [
              "20"
            ]
          }
        }
      ],
      "source": [
        "chipo_drink_steak_bowl = chipo[(chipo.item_name == \"Canned Soda\") & (chipo.quantity > 1)]\n",
        "# chipo_drink_steak_bowl = chipo.query('item_name == \"Canned Soda\" & quantity > 1')\n",
        "\n",
        "len(chipo_drink_steak_bowl)"
      ],
      "id": "cell-19"
    }
  ],
  "nbformat": 4,
  "nbformat_minor": 5,
  "metadata": {
    "kernelspec": {
      "name": "python3",
      "display_name": "base",
      "language": "python"
    },
    "language_info": {
      "name": "python",
      "codemirror_mode": {
        "name": "ipython",
        "version": "3"
      },
      "file_extension": ".py",
      "mimetype": "text/x-python",
      "nbconvert_exporter": "python",
      "pygments_lexer": "ipython3",
      "version": "3.12.7"
    }
  }
}